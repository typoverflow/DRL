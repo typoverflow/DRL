{
 "cells": [
  {
   "cell_type": "code",
   "execution_count": 92,
   "metadata": {},
   "outputs": [],
   "source": [
    "import numpy as np\n",
    "import matplotlib.pyplot as plt\n",
    "import gym\n",
    "import torch\n",
    "import torch.nn as nn\n",
    "\n",
    "class Paras(object):\n",
    "    learning_rate = 0.01\n",
    "    batch_size = 32\n",
    "    gamma = 0.99\n",
    "    buffer_capacity = 100000\n",
    "    niteration = 100\n",
    "    agent_hist = 4\n",
    "\n",
    "    init_epsilon = 1\n",
    "    final_epsilon = 0.1\n",
    "    epsilon_decay = 1/100000\n",
    "\n",
    "    env = gym.make(\"SpaceInvaders-v0\")\n",
    "    input_shape = env.observation_space.shape[0]\n",
    "    action_num = env.action_space.n\n",
    "    action_shape = 0 if isinstance(env.action_space.sample(), int) else env.action_space.sample.shape\n",
    "    \n",
    "\n",
    "\n",
    "class DQN():\n",
    "    def __init__(self):\n",
    "        self.lr = Paras.learning_rate\n",
    "        self.gamma = Paras.gamma\n",
    "        \n",
    "        self.epsilon = self.init_epsilon = Paras.init_epsilon\n",
    "        self.final_epsilon = Paras.final_epsilon\n",
    "        self.epsilon_decay = Paras.epsilon_decay\n",
    "\n",
    "        self.buffer_counter = 0\n",
    "        self.buffer_cur = 0\n",
    "        if Paras.action_shape == 0:\n",
    "            self.buffer = np.zeros((Paras.buffer_capacity, 1+1+2*Paras.input_shape))\n",
    "        else:\n",
    "            self.buffer = np.zeros((Paras.buffer_capacity, 1+2*Paras.input_shape+Paras.action_shape.sum()))\n",
    "        \n",
    "        self.optimizer = None\n",
    "        self.loss_func = nn.MSELoss(\"mean\")"
   ]
  },
  {
   "cell_type": "code",
   "execution_count": 94,
   "metadata": {},
   "outputs": [],
   "source": [
    "env = Paras.env"
   ]
  },
  {
   "cell_type": "code",
   "execution_count": 95,
   "metadata": {},
   "outputs": [
    {
     "name": "stdout",
     "output_type": "stream",
     "text": [
      "(210, 160, 3)\n"
     ]
    },
    {
     "data": {
      "text/plain": [
       "<matplotlib.image.AxesImage at 0x7fa78227bf28>"
      ]
     },
     "execution_count": 95,
     "metadata": {},
     "output_type": "execute_result"
    },
    {
     "data": {
      "image/png": "[encoded data removed]",
      "text/plain": [
       "<matplotlib.figure.Figure at 0x7fa782309e80>"
      ]
     },
     "metadata": {
      "needs_background": "light"
     },
     "output_type": "display_data"
    }
   ],
   "source": [
    "env.reset()\n",
    "state = env.step(1)[0]\n",
    "print(state.shape)\n",
    "plt.imshow(state)"
   ]
  },
  {
   "cell_type": "code",
   "execution_count": 106,
   "metadata": {
    "scrolled": true
   },
   "outputs": [
    {
     "data": {
      "text/plain": [
       "torch.Size([1, 90, 90])"
      ]
     },
     "execution_count": 106,
     "metadata": {},
     "output_type": "execute_result"
    }
   ],
   "source": [
    "from torchvision import transforms\n",
    "from PIL import Image\n",
    "\n",
    "preprocess = transforms.Compose([\n",
    "    transforms.Grayscale(3), \n",
    "#     transforms.Resize((105, 85)), \n",
    "#     transforms.CenterCrop(90),\n",
    "#     transforms.ToTensor(), \n",
    "])\n",
    "new = preprocess(Image.fromarray(state))\n",
    "# plt.imshow(new[0, :])\n",
    "new.shape\n"
   ]
  },
  {
   "cell_type": "code",
   "execution_count": null,
   "metadata": {},
   "outputs": [],
   "source": []
  }
 ],
 "metadata": {
  "kernelspec": {
   "display_name": "Python 3",
   "language": "python",
   "name": "python3"
  },
  "language_info": {
   "codemirror_mode": {
    "name": "ipython",
    "version": 3
   },
   "file_extension": ".py",
   "mimetype": "text/x-python",
   "name": "python",
   "nbconvert_exporter": "python",
   "pygments_lexer": "ipython3",
   "version": "3.6.2"
  }
 },
 "nbformat": 4,
 "nbformat_minor": 2
}
